{
  "nbformat": 4,
  "nbformat_minor": 0,
  "metadata": {
    "colab": {
      "name": "Examen Programacion - B.ipynb",
      "provenance": [],
      "collapsed_sections": [],
      "include_colab_link": true
    },
    "kernelspec": {
      "name": "python3",
      "display_name": "Python 3"
    }
  },
  "cells": [
    {
      "cell_type": "markdown",
      "metadata": {
        "id": "view-in-github",
        "colab_type": "text"
      },
      "source": [
        "<a href=\"https://colab.research.google.com/github/ryali93/ExamenProgramacion/blob/master/Examen_Programacion_B.ipynb\" target=\"_parent\"><img src=\"https://colab.research.google.com/assets/colab-badge.svg\" alt=\"Open In Colab\"/></a>"
      ]
    },
    {
      "cell_type": "markdown",
      "metadata": {
        "id": "y7Oq4Se1jAkk",
        "colab_type": "text"
      },
      "source": [
        "# EXAMEN PARCIAL DE PROGRAMACIÓN - B"
      ]
    },
    {
      "cell_type": "markdown",
      "metadata": {
        "id": "d6Dtx5cijHuN",
        "colab_type": "text"
      },
      "source": [
        "Nombres y apellidos: \n",
        "\n",
        "Código: "
      ]
    },
    {
      "cell_type": "markdown",
      "metadata": {
        "id": "V2Gv10h-SbX4",
        "colab_type": "text"
      },
      "source": [
        "***\n",
        "Instrucciones:\n",
        "- El examen es personal\n",
        "- Se puede usar internet\n",
        "- Una vez terminado, descargar en formato **.ipynb** su examen con su código de estudiante y subir a esta [carpeta compartida](https://drive.google.com/drive/u/0/folders/15-6dSuwz7EMO-CNYb0pMgxG-0WksCEv6) (ejemplo: 17160099.ipynb)\n",
        "***"
      ]
    },
    {
      "cell_type": "markdown",
      "metadata": {
        "id": "7M7qpUULGbos",
        "colab_type": "text"
      },
      "source": [
        "## Nivel 1 (1 pt c/u)"
      ]
    },
    {
      "cell_type": "markdown",
      "metadata": {
        "id": "be8dPw7dmTJu",
        "colab_type": "text"
      },
      "source": [
        "1. Explicar algunas diferencias entre un editor de texto y una interfaz de desarrollo."
      ]
    },
    {
      "cell_type": "markdown",
      "metadata": {
        "id": "hYZm4UQxmchw",
        "colab_type": "text"
      },
      "source": [
        "2. Explicar cómo crear un repositorio virtual en Github y subir archivos a este."
      ]
    },
    {
      "cell_type": "markdown",
      "metadata": {
        "id": "YhnHyiU3mqRy",
        "colab_type": "text"
      },
      "source": [
        "3. ¿Por qué se dice que Python es un lenguaje **multiparadigma**?"
      ]
    },
    {
      "cell_type": "markdown",
      "metadata": {
        "id": "fHDP4mj0wy6q",
        "colab_type": "text"
      },
      "source": [
        "4. Mencione 3 diferencias entre python2 y python3"
      ]
    },
    {
      "cell_type": "markdown",
      "metadata": {
        "id": "nW8hXJnIxFyc",
        "colab_type": "text"
      },
      "source": [
        "5. Explicar las diferencias entre las estructuras de datos vistas en clase"
      ]
    },
    {
      "cell_type": "markdown",
      "metadata": {
        "colab_type": "text",
        "id": "heaLpwrsBoBA"
      },
      "source": [
        "6. Calcule el resto de la siguiente ecuación\n",
        "\n",
        "$$ \\frac {2^5 - \\sqrt{6^2 - 5^2}} {15} $$"
      ]
    },
    {
      "cell_type": "markdown",
      "metadata": {
        "id": "dRL33PiQKfeY",
        "colab_type": "text"
      },
      "source": [
        "7. Crear un diccionario con 3 llaves y que sus valores sean tuplas o listas. Finalmente guardalo como archivo **json**."
      ]
    },
    {
      "cell_type": "markdown",
      "metadata": {
        "id": "Gq9EuuSzGx0n",
        "colab_type": "text"
      },
      "source": [
        "## Nivel 2 (2 pt c/u)"
      ]
    },
    {
      "cell_type": "markdown",
      "metadata": {
        "id": "kO-PPOvfnnBq",
        "colab_type": "text"
      },
      "source": [
        "1. Realizar el siguiente gráfico usando sentencias **for**"
      ]
    },
    {
      "cell_type": "code",
      "metadata": {
        "id": "cNZ4ednPIz-E",
        "colab_type": "code",
        "colab": {}
      },
      "source": [
        "*\n",
        "  *\n",
        "    *\n",
        "      *\n",
        "        *\n",
        "          *\n",
        "        *\n",
        "      *\n",
        "    *\n",
        "  *\n",
        "*"
      ],
      "execution_count": 0,
      "outputs": []
    },
    {
      "cell_type": "markdown",
      "metadata": {
        "id": "0GnE97p6Ju5o",
        "colab_type": "text"
      },
      "source": [
        "2. Crear una función que devuelva la media armónica de una lista"
      ]
    },
    {
      "cell_type": "markdown",
      "metadata": {
        "id": "IGmEYUUHH-w0",
        "colab_type": "text"
      },
      "source": [
        "3. Realizar una función que pida el valor de los tres lados de un triángulo y demuestre su existencia."
      ]
    },
    {
      "cell_type": "markdown",
      "metadata": {
        "id": "_a6PPs_6KwTz",
        "colab_type": "text"
      },
      "source": [
        "## Nivel 3 (3 pt c/u)"
      ]
    },
    {
      "cell_type": "markdown",
      "metadata": {
        "id": "_NLJHa9_088m",
        "colab_type": "text"
      },
      "source": [
        "1. Crear una función que invierta una frase e identifique si es palíndroma o no.\n",
        "\n",
        "    Ejemplo: \n",
        "\n",
        "    **\"Anita lava la tina\" --> \"anit al aval atinA\" (Es palíndroma)**\n",
        "\n",
        "    **\"Hola mundo\" --> \"odnum aloH\"                 (No es palíndroma)**"
      ]
    },
    {
      "cell_type": "markdown",
      "metadata": {
        "id": "aGu8vTil2Ri7",
        "colab_type": "text"
      },
      "source": [
        "2. Crear una función que cuente la cantidad de letras que se repiten en un texto y las devuelva en un diccionario.\n",
        "\n",
        "    Ejemplo:\n",
        "    \n",
        "    **\"bienvenido\"**\n",
        "    \n",
        "    **{\"b\":1, \"i\":2, \"e\":2, \"n\":2, \"v\":1, \"d\":1, \"o\":1}**\n",
        "    "
      ]
    },
    {
      "cell_type": "markdown",
      "metadata": {
        "id": "PUh494U9OvbI",
        "colab_type": "text"
      },
      "source": [
        "3. Crear una función para calcular el área de una corona circular.\n",
        "\n",
        "![](https://encrypted-tbn0.gstatic.com/images?q=tbn:ANd9GcSK9qQ1LQWTwiIGOIhbd7GljoXsJIt1jIqIglPfeQr2L5ZU5M8V&s)"
      ]
    },
    {
      "cell_type": "markdown",
      "metadata": {
        "id": "kjCoXuAdWhyO",
        "colab_type": "text"
      },
      "source": [
        "4. Crear una lista con los nombres de todas los paises del archivo [sudamerica.json](https://github.com/ryali93/UNMSM_programacion/blob/master/data/sudamerica.json)\n",
        "\n",
        "    Ayuda: *descargar el archivo JSON con la opción Raw*"
      ]
    },
    {
      "cell_type": "markdown",
      "metadata": {
        "id": "1G5Rp42x3KHa",
        "colab_type": "text"
      },
      "source": [
        "## Nivel 4 (4 pt):"
      ]
    },
    {
      "cell_type": "markdown",
      "metadata": {
        "id": "KGJx9ZQRDwba",
        "colab_type": "text"
      },
      "source": [
        "1. Un ingeniero está realizando el diseño de un canal de regadío para un pequeño pueblo, cree una función para que, dependiendo del tipo de sección que usará, pueda saber el área, perímetro mojado, radio hidráulico y espejo de agua de su sección. (Elegir 2 tipos de sección)\n",
        "\n",
        "![](https://upload.wikimedia.org/wikipedia/commons/5/59/Radio_Hidr%C3%A1ulico_geometria_fundamental.gif)"
      ]
    },
    {
      "cell_type": "markdown",
      "metadata": {
        "id": "wPPUwC7I3Ohq",
        "colab_type": "text"
      },
      "source": [
        "2. Teniendo las listas:\n",
        "\n",
        "    x = [8, 2, 11, 6, 5, 4, 12, 9, 6, 1]\n",
        "    \n",
        "    y = [3, 10, 3, 6, 8, 12, 1, 4, 9, 14]\n",
        "    \n",
        "    Calcule la pendiente de la recta\n",
        "\n",
        "    $$ m = \\frac {\\sum{xy} - \\frac{(\\sum{x}) (\\sum{y})}n} {\\sum{x}^2 - {\\frac {(\\sum{x})^2}n}} $$\n",
        "\n",
        "    Calcule la intercepción en **y** de la forma\n",
        "\n",
        "    $$ b = \\bar{y} - m\\bar{x} $$\n",
        "\n",
        "    Use la pendiente y la intercepción en y para formar la ecuación de la recta."
      ]
    }
  ]
}