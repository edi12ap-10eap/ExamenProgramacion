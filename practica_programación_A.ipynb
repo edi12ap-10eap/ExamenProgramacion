{
  "nbformat": 4,
  "nbformat_minor": 0,
  "metadata": {
    "colab": {
      "name": "practica_programación_A.ipynb",
      "provenance": [],
      "collapsed_sections": [],
      "include_colab_link": true
    },
    "kernelspec": {
      "name": "python3",
      "display_name": "Python 3"
    }
  },
  "cells": [
    {
      "cell_type": "markdown",
      "metadata": {
        "id": "view-in-github",
        "colab_type": "text"
      },
      "source": [
        "<a href=\"https://colab.research.google.com/github/ryali93/ExamenProgramacion/blob/master/practica_programaci%C3%B3n_A.ipynb\" target=\"_parent\"><img src=\"https://colab.research.google.com/assets/colab-badge.svg\" alt=\"Open In Colab\"/></a>"
      ]
    },
    {
      "cell_type": "markdown",
      "metadata": {
        "id": "y7Oq4Se1jAkk",
        "colab_type": "text"
      },
      "source": [
        "# PRÁCTICA DE PROGRAMACIÓN - A"
      ]
    },
    {
      "cell_type": "markdown",
      "metadata": {
        "id": "d6Dtx5cijHuN",
        "colab_type": "text"
      },
      "source": [
        "Nombres y apellidos: \n",
        "\n",
        "Código: "
      ]
    },
    {
      "cell_type": "markdown",
      "metadata": {
        "id": "V2Gv10h-SbX4",
        "colab_type": "text"
      },
      "source": [
        "***\n",
        "Instrucciones:\n",
        "- El examen es personal\n",
        "- Se puede usar internet\n",
        "- Una vez terminado, descargar en formato **.ipynb** su examen con su código de estudiante y subir a esta [carpeta compartida](https://drive.google.com/drive/folders/1Nu_xU5gdRe4ZHAxApkKgqKXktWWh3dKV) (ejemplo: 17160099.ipynb)\n",
        "- **En caso tengan la idea, pero no le sale, se considerará explicar lo que quiere realizar.**\n",
        "***"
      ]
    },
    {
      "cell_type": "markdown",
      "metadata": {
        "id": "2NrjVzQIjRH2",
        "colab_type": "text"
      },
      "source": [
        "## PREGUNTAS"
      ]
    },
    {
      "cell_type": "markdown",
      "metadata": {
        "id": "qCk2aiwfj47k",
        "colab_type": "text"
      },
      "source": [
        "1. Realizar una **función** para calcular la evapotranspiración según la fórmula de Thornthwaite. (Página 26 del siguiente [link](https://es.slideshare.net/leugimxw/evapotranspiracion-39253412))"
      ]
    },
    {
      "cell_type": "markdown",
      "metadata": {
        "id": "kjCoXuAdWhyO",
        "colab_type": "text"
      },
      "source": [
        "2. Identificar la **cantidad de estaciones existentes** para cada departamento [estaciones_senamhi.json](https://github.com/ryali93/utilitarios/blob/master/extractData/estaciones_senamhi_historic_2.json)"
      ]
    },
    {
      "cell_type": "markdown",
      "metadata": {
        "id": "nc7jyAKWwc4V",
        "colab_type": "text"
      },
      "source": [
        "3. Ingresar a esta [página](http://datosabiertos.oefa.gob.pe/dashboards/20538/evaluaciones-ambientales-que-determinan-causalidad-eadc/)\n",
        "- Descargar un dataset (como csv)\n",
        "- Leer el archivo con la librería **pandas**\n",
        "- Realizar una consulta específica\n",
        "- Describir brevemente un análisis de su consulta"
      ]
    }
  ]
}